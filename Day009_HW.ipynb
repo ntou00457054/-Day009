{
 "cells": [
  {
   "cell_type": "markdown",
   "metadata": {},
   "source": [
    "# 作業\n",
    "\n",
    "以正確的副檔名下載網頁中的圖片\n",
    "範例網頁:https://www.ptt.cc/bbs/Beauty/M.1556291059.A.75A.html\n",
    "\n",
    "Note：因為 PTT 會詢問「是否滿 18 歲」，這邊可以用 cookies 繞過\n",
    "\n",
    "`requests.get(URL, cookies={'over18': '1'}`\n"
   ]
  },
  {
   "cell_type": "code",
   "execution_count": 35,
   "metadata": {},
   "outputs": [],
   "source": [
    "import requests\n",
    "import os\n",
    "\n",
    "from bs4 import BeautifulSoup\n",
    "from PIL import Image"
   ]
  },
  {
   "cell_type": "code",
   "execution_count": 36,
   "metadata": {},
   "outputs": [],
   "source": [
    "url = 'https://www.ptt.cc/bbs/Beauty/M.1556291059.A.75A.html'\n",
    "resp = requests.get(url, cookies={'over18': '1'})\n",
    "soup = BeautifulSoup(resp.text)"
   ]
  },
  {
   "cell_type": "code",
   "execution_count": 46,
   "metadata": {},
   "outputs": [
    {
     "name": "stdout",
     "output_type": "stream",
     "text": [
      "Cgb5oo1\n",
      "Save image downloads/Cgb5oo1.jpeg\n",
      "MgjHY4f\n",
      "Save image downloads/MgjHY4f.jpeg\n",
      "yeoRtAs\n",
      "Save image downloads/yeoRtAs.jpeg\n",
      "wsauNEW\n",
      "Save image downloads/wsauNEW.jpeg\n",
      "IjiETcs\n",
      "Save image downloads/IjiETcs.jpeg\n"
     ]
    }
   ],
   "source": [
    "# 決定要儲存的資料夾\n",
    "output_dir = 'downloads'\n",
    "\n",
    "# 假如資料夾不存在就新增一個資料夾\n",
    "if not os.path.exists(output_dir):\n",
    "    os.makedirs(output_dir)\n",
    "\n",
    "# 定位所有圖片的 tag\n",
    "image_tags = soup.find(id='main-content').findChildren('a',recursive=False)#圖片連結在id is main_content下一層的a tag\n",
    "for image_tag in image_tags:\n",
    "    # 取得所有圖片在第三方服務的 id\n",
    "    if 'imgur' not in image_tag['href']: #迴圈過濾掉沒有imgur字眼的連結，圖片連結的共通點\n",
    "        continue\n",
    "    img_id = image_tag['href'].split('/')[-1] #連結的id放最後一項\n",
    "    print(img_id)\n",
    "    \n",
    "    # 組合圖片而非網站的網址\n",
    "    img_url = 'https://imgur.com/{}.jpg' .format(img_id)#組合成每張圖片的url，要加副檔名才是完整連結\n",
    "    # 對圖片送出請求\n",
    "    with requests.get(img_url,stream=True) as r: #with為呼叫套件模組\n",
    "        r.raise_for_status()\n",
    "        image = Image.open(r.raw)#用PIL套件打開raw image\n",
    "        image_savename =  '{outdir}/{img_id}.{img_ext}'.format(outdir=output_dir,img_id = img_id,img_ext = image.format.lower())\n",
    "        image.save(image_savename)#塞入存取路徑\n",
    "        print('Save image {}'.format(image_savename))"
   ]
  },
  {
   "cell_type": "code",
   "execution_count": null,
   "metadata": {},
   "outputs": [],
   "source": []
  }
 ],
 "metadata": {
  "kernelspec": {
   "display_name": "Python 3",
   "language": "python",
   "name": "python3"
  },
  "language_info": {
   "codemirror_mode": {
    "name": "ipython",
    "version": 3
   },
   "file_extension": ".py",
   "mimetype": "text/x-python",
   "name": "python",
   "nbconvert_exporter": "python",
   "pygments_lexer": "ipython3",
   "version": "3.7.4"
  }
 },
 "nbformat": 4,
 "nbformat_minor": 2
}
