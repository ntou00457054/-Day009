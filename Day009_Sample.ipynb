{
 "cells": [
  {
   "cell_type": "markdown",
   "metadata": {},
   "source": [
    "# 範例\n",
    "\n",
    "以正確的副檔名下載網頁中的圖片\n",
    "範例網頁:https://www.ptt.cc/bbs/Beauty/M.1574854555.A.E5C.html\n",
    "\n",
    "Note：因為 PTT 會詢問「是否滿 18 歲」，這邊可以用 cookies 繞過\n",
    "\n",
    "`requests.get(URL, cookies={'over18': '1'}`"
   ]
  },
  {
   "cell_type": "code",
   "execution_count": 2,
   "metadata": {},
   "outputs": [],
   "source": [
    "import requests\n",
    "import os\n",
    "\n",
    "from bs4 import BeautifulSoup\n",
    "from PIL import Image"
   ]
  },
  {
   "cell_type": "code",
   "execution_count": 3,
   "metadata": {},
   "outputs": [
    {
     "name": "stdout",
     "output_type": "stream",
     "text": [
      "<class 'requests.models.Response'>\n"
     ]
    }
   ],
   "source": [
    "url = 'https://www.ptt.cc/bbs/Beauty/M.1574854555.A.E5C.html'\n",
    "resp = requests.get(url, cookies={'over18': '1'})\n",
    "print(type(resp))\n",
    "soup = BeautifulSoup(resp.text)#轉為string 處理"
   ]
  },
  {
   "cell_type": "code",
   "execution_count": 8,
   "metadata": {},
   "outputs": [
    {
     "name": "stdout",
     "output_type": "stream",
     "text": [
      "JPEG\n",
      "Save image downloads/Yvqa9MC.jpg.jpeg\n",
      "JPEG\n",
      "Save image downloads/4aqPUFf.jpg.jpeg\n",
      "JPEG\n",
      "Save image downloads/hG9seBk.jpg.jpeg\n",
      "JPEG\n",
      "Save image downloads/2M5b3z4.jpg.jpeg\n",
      "JPEG\n",
      "Save image downloads/ncyh1pY.jpg.jpeg\n",
      "JPEG\n",
      "Save image downloads/Z8L1vqU.jpg.jpeg\n",
      "JPEG\n",
      "Save image downloads/tJyl8gf.jpg.jpeg\n",
      "JPEG\n",
      "Save image downloads/hwry1vC.jpg.jpeg\n",
      "JPEG\n",
      "Save image downloads/WaPmVsl.jpg.jpeg\n",
      "JPEG\n",
      "Save image downloads/u3a9fBO.jpg.jpeg\n"
     ]
    },
    {
     "data": {
      "text/plain": [
       "'\\n補充 : \\nraw 格式圖片 : https://famous1993.pixnet.net/blog/post/36303408?m=on\\nPIL Image Library : https://yungyuc.github.io/oldtech/python/python_imaging.html\\nJPEG與JPG : https://kknews.cc/zh-tw/news/npeamlg.html\\n'"
      ]
     },
     "execution_count": 8,
     "metadata": {},
     "output_type": "execute_result"
    }
   ],
   "source": [
    "# 決定要儲存的資料夾\n",
    "output_dir = 'downloads'\n",
    "\n",
    "# 假如資料夾不存在就新增一個資料夾\n",
    "if not os.path.exists(output_dir):\n",
    "    os.makedirs(output_dir)\n",
    "\n",
    "# 定位所有圖片的 tag\n",
    "image_tags = soup.find(id='main-content').findChildren('a', recursive=False)\n",
    "for img_tag in image_tags:\n",
    "    # 取得所有圖片在第三方服務的 id\n",
    "    if 'imgur' not in img_tag['href']: \n",
    "        continue #條件成立跳過以下執行下次回圈\n",
    "    img_id = img_tag['href'].split('/')[-1]\n",
    "    # 組合圖片而非網站的網址\n",
    "    img_url = 'https://i.imgur.com/{}.jpg'.format(img_id) \n",
    "    # 對圖片送出請求\n",
    "    with requests.get(img_url, stream=True) as r: #stream=True 來強制解壓縮，並且可以避免立即將大的 response 內容讀入記憶體內\n",
    "        r.raise_for_status()#確認request 狀態為200(ok)，吼則會有httpError\n",
    "        # 檢查圖片副檔名\n",
    "        img = Image.open(r.raw)#將圖片載入python\n",
    "        img_savename = '{outdir}/{img_id}.{img_ext}'.format(\n",
    "            outdir=output_dir, img_id=img_id, img_ext=img.format.lower())#.lower => 回傳將英文大寫字母改成英文小寫字母的新字串。\n",
    "        img.save(img_savename)\n",
    "        print(img.format)\n",
    "        print('Save image {}'.format(img_savename))\n",
    "\n",
    "'''\n",
    "補充 : \n",
    "raw 格式圖片 : https://famous1993.pixnet.net/blog/post/36303408?m=on\n",
    "PIL Image Library : https://yungyuc.github.io/oldtech/python/python_imaging.html\n",
    "JPEG與JPG : https://kknews.cc/zh-tw/news/npeamlg.html\n",
    "'''\n",
    "        "
   ]
  },
  {
   "cell_type": "markdown",
   "metadata": {},
   "source": [
    "# 補充\n",
    "\n",
    "*  cookie 相關補充 : https://www.youtube.com/watch?v=BEA7F9ExiPY&feature=youtu.be\n"
   ]
  }
 ],
 "metadata": {
  "kernelspec": {
   "display_name": "Python 3",
   "language": "python",
   "name": "python3"
  },
  "language_info": {
   "codemirror_mode": {
    "name": "ipython",
    "version": 3
   },
   "file_extension": ".py",
   "mimetype": "text/x-python",
   "name": "python",
   "nbconvert_exporter": "python",
   "pygments_lexer": "ipython3",
   "version": "3.7.4"
  }
 },
 "nbformat": 4,
 "nbformat_minor": 2
}
